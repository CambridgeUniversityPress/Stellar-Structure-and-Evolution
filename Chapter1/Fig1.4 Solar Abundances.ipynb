{
 "cells": [
  {
   "cell_type": "markdown",
   "metadata": {},
   "source": [
    "## Solar Abundances\n",
    "\n",
    "Figure 1.4 from *Stellar Structure & Evolution* by Pinsonneault & Ryden, Cambridge University Press.\n",
    "\n",
    "Plot of solar abundace vs. atomic number.  \n",
    "\n",
    "Updated on 2025 Feb 19 with data from Lodders, Bergemann, & Palme 2025, *Solar System Elemental Abundances \n",
    "from the Solar Photosphere and CI-Chondrites*, Space Science Reviews, https://arxiv.org/abs/2502.10575, Table 6\n",
    "\n",
    "The figure in the book used data from Lodders 2020, Solar Elemental Abundances, in The Oxford Research \n",
    "Encyclopedia of Planetary Science, Oxford University Press. \n",
    "doi:[10.1093/acrefore/9780190647926.013.145](https://doi.org/10.1093/acrefore/9780190647926.013.145), Table 8.  These are still on the GitHub as the `Lodders2020.txt` data file if you want to plot the old data."
   ]
  },
  {
   "cell_type": "code",
   "execution_count": null,
   "metadata": {},
   "outputs": [],
   "source": [
    "%matplotlib inline\n",
    "\n",
    "import os, sys, math\n",
    "import numpy as np\n",
    "import pandas as pd\n",
    "import matplotlib\n",
    "import matplotlib.pyplot as plt\n",
    "from matplotlib.ticker import MultipleLocator, LogLocator, NullFormatter\n",
    "\n",
    "import warnings\n",
    "warnings.filterwarnings('ignore',category=UserWarning, append=True)"
   ]
  },
  {
   "cell_type": "markdown",
   "metadata": {},
   "source": [
    "## Standard Plot Format\n",
    "\n",
    "Setup the standard plotting format and make the plot.  "
   ]
  },
  {
   "cell_type": "code",
   "execution_count": null,
   "metadata": {},
   "outputs": [],
   "source": [
    "plotFile = 'Fig1_4.png' \n",
    "\n",
    "# graphic aspect ratio = width/height\n",
    "\n",
    "aspect = 2.0\n",
    "\n",
    "#\n",
    "# Don't change these unless you really need to (we never have)\n",
    "#\n",
    "# fPage is the horizontal fraction of the page occupied by the figure, default 1.0\n",
    "#\n",
    "# scaleFac is the LaTeX includegraphics scaling in units of \\textwidth, default 1.0\n",
    "#\n",
    "\n",
    "fPage = 1.0\n",
    "scaleFac = 0.85\n",
    "\n",
    "# Text width in inches - don't change, this is defined by the print layout\n",
    "\n",
    "textWidth = 6.0 # inches\n",
    "\n",
    "# Graphic dimensions depending on bitmap or vector format (draft vs production)\n",
    "\n",
    "dpi = 600\n",
    "plotWidth = dpi*fPage*textWidth\n",
    "plotHeight = plotWidth/aspect\n",
    "axisFontSize = 12\n",
    "labelFontSize = 8\n",
    "lwidth = 0.5\n",
    "axisPad = 5\n",
    "wInches = fPage*textWidth # float(plotWidth)/float(dpi)\n",
    "hInches = wInches/aspect  # float(plotHeight)/float(dpi)\n",
    "    \n",
    "# LaTeX is used throughout for markup of symbols, Times-Roman serif font\n",
    "\n",
    "plt.rc('text', usetex=True)\n",
    "plt.rc('font', **{'family':'serif','serif':['Times-Roman'],'weight':'bold','size':'16'})\n",
    "\n",
    "# Font and line weight defaults for axes\n",
    "\n",
    "matplotlib.rc('axes',linewidth=lwidth)\n",
    "matplotlib.rcParams.update({'font.size':axisFontSize})\n",
    "\n",
    "# axis and label padding\n",
    "\n",
    "plt.rcParams['xtick.major.pad']=f'{axisPad}'\n",
    "plt.rcParams['ytick.major.pad']=f'{axisPad}'\n",
    "plt.rcParams['axes.labelpad'] = f'{axisPad}'"
   ]
  },
  {
   "cell_type": "markdown",
   "metadata": {},
   "source": [
    "## Abundance Data\n",
    "\n",
    "Source data in file `Lodders2025.txt` which has 5 columns: atomic number (Z), element name, and log10 of the\n",
    "abundance normalized to N(H)=10$^{12}$ hydrogen atoms and its error for the present-day and proto-Sun.\n",
    "\n",
    "We plot the proto (4.567 Gya) data.\n",
    "\n",
    "The table has gaps for short-lived radioactive elements not measured in the solar system, so we use\n",
    "a numpy masked array for the plot.\n",
    "\n",
    "To plot the original book figures with the Lodders 2020 data, comment and uncomment the appropriate lines\n",
    "below."
   ]
  },
  {
   "cell_type": "code",
   "execution_count": null,
   "metadata": {},
   "outputs": [],
   "source": [
    "#dataFile = 'Lodders2020.txt'\n",
    "dataFile = 'Lodders2025.txt'\n",
    "\n",
    "data = pd.read_csv(dataFile,sep=r'\\s+',comment='#')\n",
    "atomic = np.array(data['Z'])\n",
    "proto = np.array(data['proto'])\n",
    "\n",
    "abund = np.ma.masked_where(proto==-999, proto) # mind gaps"
   ]
  },
  {
   "cell_type": "markdown",
   "metadata": {},
   "source": [
    "### Figure 1.4\n",
    "\n",
    "Plot abundance vs. atomic number, label the 10 most abundance elements (all of which have 12+log(N/H)>7).  "
   ]
  },
  {
   "cell_type": "code",
   "execution_count": null,
   "metadata": {},
   "outputs": [],
   "source": [
    "fig,ax = plt.subplots(figsize=(wInches,hInches),dpi=dpi)\n",
    "\n",
    "ax.tick_params('both',length=6,width=lwidth,which='major',direction='in',top='on',right='on')\n",
    "ax.tick_params('both',length=3,width=lwidth,which='minor',direction='in',top='on',right='on')\n",
    "\n",
    "# Limits\n",
    "\n",
    "zMin = -2\n",
    "zMax = 95\n",
    "\n",
    "nMin = -0.5\n",
    "nMax = 13.0\n",
    "\n",
    "ax.set_xlim(zMin,zMax)\n",
    "ax.xaxis.set_major_locator(MultipleLocator(20))\n",
    "ax.xaxis.set_minor_locator(MultipleLocator(5))\n",
    "ax.set_xlabel(r'Atomic number Z',fontsize=axisFontSize)\n",
    "\n",
    "ax.set_ylim(nMin,nMax)\n",
    "ax.yaxis.set_major_locator(MultipleLocator(5))\n",
    "ax.yaxis.set_minor_locator(MultipleLocator(1))\n",
    "ax.set_ylabel(r'log$_{10}$N',fontsize=axisFontSize)\n",
    "\n",
    "ax.plot(atomic,abund,marker='o',ls='-',color='black',mfc='black',markersize=1,zorder=10,lw=0.5)\n",
    "\n",
    "# Label the 10 most abundant elements (12+logX/H>7)\n",
    "\n",
    "ax.text(1,12.1,'H',va='bottom',ha='center',fontsize=6)\n",
    "ax.text(2.2,11,'He',va='bottom',ha='left',fontsize=6)\n",
    "ax.text(6,8.6,'C',va='bottom',ha='center',fontsize=6)\n",
    "ax.text(7,7.7,'N',va='top',ha='center',fontsize=6)\n",
    "ax.text(8,8.9,'O',va='bottom',ha='center',fontsize=6)\n",
    "ax.text(10,8.3,'Ne',va='bottom',ha='center',fontsize=6)\n",
    "ax.text(12,7.7,'Mg',va='bottom',ha='center',fontsize=6)\n",
    "ax.text(14.5,7.7,'Si',va='bottom',ha='center',fontsize=6) # nudge right because of Mg\n",
    "ax.text(16,7.3,'S',va='bottom',ha='center',fontsize=6)\n",
    "ax.text(26,7.6,'Fe',va='bottom',ha='center',fontsize=6)\n",
    "\n",
    "# Make the plot\n",
    "\n",
    "ax.plot()\n",
    "plt.savefig(plotFile,bbox_inches='tight',facecolor='white')"
   ]
  }
 ],
 "metadata": {
  "kernelspec": {
   "display_name": "Python 3 (ipykernel)",
   "language": "python",
   "name": "python3"
  },
  "language_info": {
   "codemirror_mode": {
    "name": "ipython",
    "version": 3
   },
   "file_extension": ".py",
   "mimetype": "text/x-python",
   "name": "python",
   "nbconvert_exporter": "python",
   "pygments_lexer": "ipython3",
   "version": "3.9.19"
  }
 },
 "nbformat": 4,
 "nbformat_minor": 2
}
